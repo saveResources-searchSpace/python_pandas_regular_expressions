{
 "cells": [
  {
   "cell_type": "code",
   "execution_count": 2,
   "metadata": {},
   "outputs": [],
   "source": [
    "import pandas as pd"
   ]
  },
  {
   "cell_type": "code",
   "execution_count": 3,
   "metadata": {},
   "outputs": [],
   "source": [
    "df = pd.read_csv('/Users/avinashyeluri/python/dataquest/re/hacker_news.csv')\n",
    "titles = df['title']"
   ]
  },
  {
   "cell_type": "markdown",
   "metadata": {},
   "source": [
    "get <font color='blue'>  dataframe row count  </font> and column count analysis"
   ]
  },
  {
   "cell_type": "code",
   "execution_count": 4,
   "metadata": {},
   "outputs": [
    {
     "data": {
      "text/plain": [
       "id              20099\n",
       "title           20099\n",
       "url             17659\n",
       "num_points      20099\n",
       "num_comments    20099\n",
       "author          20099\n",
       "created_at      20099\n",
       "dtype: int64"
      ]
     },
     "execution_count": 4,
     "metadata": {},
     "output_type": "execute_result"
    }
   ],
   "source": [
    "df.count()"
   ]
  },
  {
   "cell_type": "code",
   "execution_count": 5,
   "metadata": {},
   "outputs": [
    {
     "name": "stdout",
     "output_type": "stream",
     "text": [
      "20099\n"
     ]
    }
   ],
   "source": [
    "print(len(df.index))"
   ]
  },
  {
   "cell_type": "markdown",
   "metadata": {},
   "source": [
    "get <font color='blue'>  matching row count with [Pp]ython  </font> "
   ]
  },
  {
   "cell_type": "code",
   "execution_count": 6,
   "metadata": {},
   "outputs": [
    {
     "name": "stdout",
     "output_type": "stream",
     "text": [
      "160\n"
     ]
    }
   ],
   "source": [
    "import re\n",
    "\n",
    "titles = df[\"title\"].tolist()\n",
    "python_mentions=0\n",
    "\n",
    "pattern = \"[pP]ython\"\n",
    "\n",
    "\n",
    "for i in titles:\n",
    "    if re.search(pattern,i):\n",
    "        python_mentions += 1\n",
    "        \n",
    "print(python_mentions)"
   ]
  },
  {
   "cell_type": "markdown",
   "metadata": {},
   "source": [
    "get <font color='blue'>  matching row count with [Pp]ython using pandas Series  </font> "
   ]
  },
  {
   "cell_type": "code",
   "execution_count": 7,
   "metadata": {},
   "outputs": [],
   "source": [
    "pattern = '[Pp]ython'\n",
    "\n",
    "titles = df['title']\n",
    "\n",
    "python_mentions = titles.str.contains(pattern).sum()"
   ]
  },
  {
   "cell_type": "markdown",
   "metadata": {},
   "source": [
    "get <font color='blue'>  matching rows  [Rr]uby using pandas Series  </font> "
   ]
  },
  {
   "cell_type": "code",
   "execution_count": 8,
   "metadata": {},
   "outputs": [],
   "source": [
    "ruby_titles=titles[titles.str.contains(\"[Rr]uby\")]"
   ]
  },
  {
   "cell_type": "markdown",
   "metadata": {},
   "source": [
    "pattern  <font color='blue'>  e-? means character \"-\" can be zero or one times </font> "
   ]
  },
  {
   "cell_type": "code",
   "execution_count": 14,
   "metadata": {},
   "outputs": [
    {
     "name": "stdout",
     "output_type": "stream",
     "text": [
      "119      Show HN: Send an email from your shell to your...\n",
      "313          Disposable emails for safe spam free shopping\n",
      "1361     Ask HN: Doing cold emails? helps us prove this...\n",
      "1750     Protect yourself from spam, bots and phishing ...\n",
      "2421                    Ashley Madison hack treating email\n",
      "                               ...                        \n",
      "18098    House panel looking into Reddit post about Cli...\n",
      "18583    Mailgen  Generates clean, responsive HTML for ...\n",
      "18847    Show HN: Crisp iOS keyboard for email and text...\n",
      "19303    Ask HN: Why big email providers don't sign the...\n",
      "19446    Tell HN: Secure email provider Riseup will run...\n",
      "Name: title, Length: 86, dtype: object\n"
     ]
    }
   ],
   "source": [
    "email_bool = titles.str.contains(\"e-?mail\")\n",
    "email_count=email_bool.sum()\n",
    "email_titles=titles[email_bool]\n",
    "print(email_titles)"
   ]
  },
  {
   "cell_type": "markdown",
   "metadata": {},
   "source": [
    "pattern  <font color='blue'>  \\w is for word and we want to match any string with [someword] </font> "
   ]
  },
  {
   "cell_type": "code",
   "execution_count": 15,
   "metadata": {},
   "outputs": [],
   "source": [
    "pattern=\"\\[\\w+\\]\"\n",
    "tag_titles=titles.str.contains(pattern)\n",
    "tag_count=tag_titles.sum()"
   ]
  },
  {
   "cell_type": "markdown",
   "metadata": {},
   "source": [
    "pattern  <font color='blue'>  parentheses around word regex matches and used to the word extarction   </font> "
   ]
  },
  {
   "cell_type": "code",
   "execution_count": 29,
   "metadata": {},
   "outputs": [
    {
     "name": "stdout",
     "output_type": "stream",
     "text": [
      "pdf            276\n",
      "video          111\n",
      "2015             3\n",
      "audio            3\n",
      "2014             2\n",
      "beta             2\n",
      "slides           2\n",
      "crash            1\n",
      "German           1\n",
      "Australian       1\n",
      "HBR              1\n",
      "ANNOUNCE         1\n",
      "Challenge        1\n",
      "SpaceX           1\n",
      "Petition         1\n",
      "Infograph        1\n",
      "JavaScript       1\n",
      "coffee           1\n",
      "Python           1\n",
      "2008             1\n",
      "Benchmark        1\n",
      "GOST             1\n",
      "updated          1\n",
      "blank            1\n",
      "map              1\n",
      "videos           1\n",
      "gif              1\n",
      "NSFW             1\n",
      "song             1\n",
      "much             1\n",
      "React            1\n",
      "Videos           1\n",
      "Beta             1\n",
      "1996             1\n",
      "satire           1\n",
      "CSS              1\n",
      "USA              1\n",
      "detainee         1\n",
      "Excerpt          1\n",
      "viz              1\n",
      "survey           1\n",
      "Live             1\n",
      "transcript       1\n",
      "png              1\n",
      "ask              1\n",
      "Map              1\n",
      "Ubuntu           1\n",
      "5                1\n",
      "comic            1\n",
      "SPA              1\n",
      "Skinnywhale      1\n",
      "repost           1\n",
      "Name: title, dtype: int64\n"
     ]
    }
   ],
   "source": [
    "pattern = r\"\\[(\\w+)\\]\"\n",
    "\n",
    "\n",
    "tag_freq = titles.str.extract(pattern, expand=False).value_counts()\n",
    "print(tag_freq)"
   ]
  },
  {
   "cell_type": "markdown",
   "metadata": {},
   "source": [
    "pattern  <font color='blue'>  negative set [^Ss] must match one character , will check if these characters are not followed  </font> "
   ]
  },
  {
   "cell_type": "code",
   "execution_count": 40,
   "metadata": {},
   "outputs": [
    {
     "name": "stdout",
     "output_type": "stream",
     "text": [
      "436     Unikernel Power Comes to Java, Node.js, Go, an...\n",
      "811     Ask HN: Are there any projects or compilers wh...\n",
      "1840                    Adopting RxJava on the Airbnb App\n",
      "1972          Node.js vs. Java: Which Is Faster for APIs?\n",
      "2093                    Java EE and Microservices in 2016\n",
      "2367    Code that is valid in both PHP and Java, and p...\n",
      "2493    Ask HN: I've been a java dev for a couple of y...\n",
      "2751                Eventsourcing for Java 0.4.0 released\n",
      "2910                2016 JavaOne Intel Keynote  32mn Talk\n",
      "3452    What are the Differences Between Java Platform...\n",
      "Name: title, dtype: object\n",
      "50\n"
     ]
    }
   ],
   "source": [
    "pattern = r\"[Jj]ava[^Ss]\"\n",
    "java_titles = titles[titles.str.contains(pattern)]\n",
    "print(java_titles.head(10))\n",
    "print(titles.str.contains(pattern).sum())"
   ]
  },
  {
   "cell_type": "markdown",
   "metadata": {},
   "source": [
    "pattern  <font color='blue'>  word boundary anchor will check for the word with in the boundary    </font> "
   ]
  },
  {
   "cell_type": "code",
   "execution_count": 42,
   "metadata": {},
   "outputs": [
    {
     "name": "stdout",
     "output_type": "stream",
     "text": [
      "436     Unikernel Power Comes to Java, Node.js, Go, an...\n",
      "811     Ask HN: Are there any projects or compilers wh...\n",
      "1023                         Pippo  Web framework in Java\n",
      "1972          Node.js vs. Java: Which Is Faster for APIs?\n",
      "2093                    Java EE and Microservices in 2016\n",
      "2367    Code that is valid in both PHP and Java, and p...\n",
      "2493    Ask HN: I've been a java dev for a couple of y...\n",
      "2751                Eventsourcing for Java 0.4.0 released\n",
      "3228                              Comparing Rust and Java\n",
      "3452    What are the Differences Between Java Platform...\n",
      "Name: title, dtype: object\n",
      "54\n"
     ]
    }
   ],
   "source": [
    "pattern = r\"\\b[Jj]ava\\b\"\n",
    "\n",
    "java_titles = titles[titles.str.contains(pattern)]\n",
    "print(java_titles.head(10))\n",
    "\n",
    "\n",
    "print(titles.str.contains(pattern).sum())"
   ]
  },
  {
   "cell_type": "markdown",
   "metadata": {},
   "source": [
    "pattern  <font color='blue'>  beginning anchor ^    </font> "
   ]
  },
  {
   "cell_type": "code",
   "execution_count": 46,
   "metadata": {},
   "outputs": [
    {
     "name": "stdout",
     "output_type": "stream",
     "text": [
      "15\n"
     ]
    }
   ],
   "source": [
    "pattern = r\"^\\[(\\w+)\\]\"\n",
    "\n",
    "\n",
    "beginning_count = titles.str.contains(pattern).sum()\n",
    "\n",
    "print(beginning_count)\n"
   ]
  },
  {
   "cell_type": "markdown",
   "metadata": {},
   "source": [
    "pattern  <font color='blue'>  beginning anchor $  </font> "
   ]
  },
  {
   "cell_type": "code",
   "execution_count": 47,
   "metadata": {},
   "outputs": [
    {
     "name": "stdout",
     "output_type": "stream",
     "text": [
      "417\n"
     ]
    }
   ],
   "source": [
    "\n",
    "pattern = r\"\\[(\\w+)\\]$\"\n",
    "\n",
    "ending_count = titles.str.contains(pattern).sum()\n",
    "print(ending_count)\n",
    "\n"
   ]
  },
  {
   "cell_type": "code",
   "execution_count": 50,
   "metadata": {},
   "outputs": [
    {
     "name": "stdout",
     "output_type": "stream",
     "text": [
      "0     True\n",
      "1     True\n",
      "2     True\n",
      "3     True\n",
      "4     True\n",
      "5     True\n",
      "6     True\n",
      "7     True\n",
      "8     True\n",
      "9     True\n",
      "10    True\n",
      "11    True\n",
      "dtype: bool\n",
      "141\n"
     ]
    }
   ],
   "source": [
    "import re\n",
    "\n",
    "email_tests = pd.Series(['email', 'Email', 'e Mail', 'e mail', 'E-mail',\n",
    "              'e-mail', 'eMail', 'E-Mail', 'EMAIL', 'emails', 'Emails',\n",
    "              'E-Mails'])\n",
    "\n",
    "\n",
    "pattern = r\"\\be[\\-\\s]?mails?\\b\"\n",
    "\n",
    "print(email_tests.str.contains(pattern,flags=re.I))\n",
    "\n",
    "email_mentions = titles.str.contains(pattern,flags=re.I).sum()\n",
    "print(email_mentions)"
   ]
  },
  {
   "cell_type": "markdown",
   "metadata": {},
   "source": [
    "--- END --"
   ]
  },
  {
   "cell_type": "code",
   "execution_count": 52,
   "metadata": {},
   "outputs": [
    {
     "name": "stdout",
     "output_type": "stream",
     "text": [
      "<re.Match object; span=(11, 15), match='blue'>\n"
     ]
    }
   ],
   "source": [
    "import re\n",
    "print(re.search(r\"blue\", \"Rhythm and blues\"))"
   ]
  },
  {
   "cell_type": "code",
   "execution_count": null,
   "metadata": {},
   "outputs": [],
   "source": []
  },
  {
   "cell_type": "code",
   "execution_count": null,
   "metadata": {},
   "outputs": [],
   "source": []
  },
  {
   "cell_type": "code",
   "execution_count": null,
   "metadata": {},
   "outputs": [],
   "source": []
  }
 ],
 "metadata": {
  "kernelspec": {
   "display_name": "Python 3",
   "language": "python",
   "name": "python3"
  },
  "language_info": {
   "codemirror_mode": {
    "name": "ipython",
    "version": 3
   },
   "file_extension": ".py",
   "mimetype": "text/x-python",
   "name": "python",
   "nbconvert_exporter": "python",
   "pygments_lexer": "ipython3",
   "version": "3.7.6"
  }
 },
 "nbformat": 4,
 "nbformat_minor": 4
}
